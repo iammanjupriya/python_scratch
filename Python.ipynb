{
  "cells": [
    {
      "cell_type": "markdown",
      "metadata": {
        "id": "lxfpIo03QJh0"
      },
      "source": [
        "Syntax"
      ]
    },
    {
      "cell_type": "code",
      "execution_count": null,
      "metadata": {
        "colab": {
          "base_uri": "https://localhost:8080/"
        },
        "id": "by8Lc9lWh4XV",
        "outputId": "ca57b874-4dbd-4c09-97e8-d3a15eb579ee"
      },
      "outputs": [
        {
          "name": "stdout",
          "output_type": "stream",
          "text": [
            "HELLO WORLD\n",
            "60\n"
          ]
        }
      ],
      "source": [
        "class World:\n",
        "    def human(self):\n",
        "        print(\"HELLO WORLD\")\n",
        "\n",
        "    def calculation(self, x, y):\n",
        "        z = (x + y) * 10\n",
        "        print(z)\n",
        "\n",
        "# Create an instance of the World class\n",
        "life = World()\n",
        "\n",
        "# Call methods on the same instance multiple times\n",
        "life.human()  # Prints \"HELLO WORLD\"\n",
        "life.calculation(3, 3)  # Prints 60\n",
        "\n",
        "\n"
      ]
    },
    {
      "cell_type": "code",
      "execution_count": null,
      "metadata": {
        "colab": {
          "base_uri": "https://localhost:8080/"
        },
        "id": "Ckcv8wpxrPWC",
        "outputId": "5f84fc0b-31f1-47bf-8a28-fa5920880a58"
      },
      "outputs": [
        {
          "name": "stdout",
          "output_type": "stream",
          "text": [
            "HELLO WORLD\n",
            "60\n"
          ]
        }
      ],
      "source": [
        "class world:\n",
        "    def human(self):\n",
        "        print(\"HELLO WORLD\")\n",
        "    def calculation(self,x,y):\n",
        "        z=(x+y)*10\n",
        "        print(z)\n",
        "\n",
        "\n",
        "\n",
        "life = world()\n",
        "\n",
        "life.human()\n",
        "life.calculation(3,3)\n"
      ]
    },
    {
      "cell_type": "code",
      "execution_count": null,
      "metadata": {
        "id": "sE35AgZChesP"
      },
      "outputs": [],
      "source": [
        "class Vehicle:\n",
        "    def __init__(self, model, brand):\n",
        "        self.model = model\n",
        "        self.brand = brand\n",
        "\n",
        "    def myfunc(self):\n",
        "        print(\"MOVES\")\n",
        "\n",
        "class Car(Vehicle):\n",
        "    pass\n",
        "\n",
        "class Boat(Vehicle):\n",
        "    pass\n",
        "\n",
        "class Plane(Vehicle):\n",
        "    def way(self):  # Added 'self' parameter\n",
        "        print(\"AIR\")\n",
        "\n",
        "# Create instances of each class\n",
        "car = Car(\"NISSAN\", \"GTR\")\n",
        "boat = Boat(\"BAYLINER\", \"M15\")\n",
        "pl = Plane(\"EMIRATES\", \"A300\")\n",
        "\n",
        "# Iterate over the instances and call their methods\n",
        "for i in (car, boat, pl):\n",
        "    print(i.model, i.brand)\n",
        "    i.myfunc()\n",
        "\n",
        "# Create an instance of Plane and call the way method\n",
        "root = Plane(\"BOEING\", \"747\")\n",
        "root.way()\n"
      ]
    },
    {
      "cell_type": "code",
      "execution_count": null,
      "metadata": {
        "colab": {
          "base_uri": "https://localhost:8080/"
        },
        "id": "1BrovoWcs7dn",
        "outputId": "1e25a36e-960b-4e2b-e414-c6447d6c934a"
      },
      "outputs": [
        {
          "name": "stdout",
          "output_type": "stream",
          "text": [
            "NISSAN GTR\n",
            "MOVES\n",
            "BAYLINER M15\n",
            "MOVES\n",
            "EMIRATES A300\n",
            "MOVES\n",
            "AIR\n"
          ]
        }
      ],
      "source": [
        "class vehicle:\n",
        "    def __init__(self,model,brand):\n",
        "        self.model=model\n",
        "        self.brand=brand\n",
        "    def myfunc(this):\n",
        "        print(\"MOVES\")\n",
        "\n",
        "class car(vehicle):\n",
        "    pass\n",
        "\n",
        "class boat(vehicle):\n",
        "    pass\n",
        "\n",
        "class plane(vehicle):\n",
        "    def way(self):\n",
        "        print(\"AIR\")\n",
        "\n",
        "car = car(\"NISSAN\",\"GTR\")\n",
        "boat = boat(\"BAYLINER\",\"M15\")\n",
        "pl = plane(\"EMIRATES\",\"A300\")\n",
        "\n",
        "for i in (car,boat,pl):\n",
        "    print(i.model,i.brand)\n",
        "    i.myfunc()\n",
        "\n",
        "root = plane(\"EMIRATES\",\"A300\")\n",
        "root.way()\n"
      ]
    },
    {
      "cell_type": "code",
      "execution_count": null,
      "metadata": {
        "id": "ssp0c2XtS1Ij"
      },
      "outputs": [],
      "source": [
        "class Vehicle:\n",
        "    def __init__(self, model, brand):\n",
        "        self.model = model\n",
        "        self.brand = brand\n",
        "\n",
        "    def myfunc(self):\n",
        "        print(\"MOVES\")\n",
        "\n",
        "class Car(Vehicle):\n",
        "    pass\n",
        "\n",
        "class Boat(Vehicle):\n",
        "    pass\n",
        "\n",
        "class Plane(Vehicle):\n",
        "    def way(self):  # Added 'self' parameter\n",
        "        print(\"AIR\")\n",
        "\n",
        "# Create instances of each class\n",
        "car = Car(\"NISSAN\", \"GTR\")\n",
        "boat = Boat(\"BAYLINER\", \"M15\")\n",
        "pl = Plane(\"EMIRATES\", \"A300\")\n",
        "\n",
        "# Iterate over the instances and call their methods\n",
        "for i in (car, boat, pl):\n",
        "    print(i.model, i.brand)\n",
        "    i.myfunc()\n",
        "\n",
        "# Create an instance of Plane and call the way method\n",
        "root = Plane(\"BOEING\", \"747\")\n",
        "root.way()\n"
      ]
    },
    {
      "cell_type": "code",
      "execution_count": null,
      "metadata": {
        "colab": {
          "base_uri": "https://localhost:8080/"
        },
        "id": "9570fnkWSyBI",
        "outputId": "3282b474-c9c2-4f75-f74a-10cb73e02691"
      },
      "outputs": [
        {
          "name": "stdout",
          "output_type": "stream",
          "text": [
            "Nexa\n",
            "ride\n",
            "ride\n"
          ]
        }
      ],
      "source": [
        "class vechile():\n",
        "    #def __init__(self,brand,model):\n",
        "        #self.brand=brand\n",
        "      #/  self.model=model\n",
        "\n",
        "    def myfunc(this):\n",
        "        print(\"Nexa\")\n",
        "\n",
        "class boat(vechile):\n",
        "    def gt(self):\n",
        "        print(\"ride\")\n",
        "class bike(vechile):\n",
        "    def hu(self):\n",
        "        print(\"ride\")\n",
        "class plane(vechile):\n",
        "    def move(this):\n",
        "        print(\"fly\")\n",
        "\n",
        "cbe=plane()\n",
        "cbe.myfunc()\n",
        "cbe=bike()\n",
        "cbe.hu()\n",
        "cbe=boat()\n",
        "cbe.gt()\n"
      ]
    },
    {
      "cell_type": "markdown",
      "metadata": {
        "id": "k6QjdA0BOgKP"
      },
      "source": [
        "Python Indentation"
      ]
    },
    {
      "cell_type": "code",
      "execution_count": null,
      "metadata": {
        "colab": {
          "base_uri": "https://localhost:8080/"
        },
        "id": "1e2fvwtwkKSS",
        "outputId": "b4424338-338d-420a-9545-517b9f62797d"
      },
      "outputs": [
        {
          "name": "stdout",
          "output_type": "stream",
          "text": [
            "HELLO WORLD\n"
          ]
        }
      ],
      "source": [
        "# Option 1: Provide two arguments to the calculation function\n",
        "\n",
        "\n",
        "\n",
        "# Option 2: Modify the function definition to take only one argument\n",
        "\n",
        "class world:\n",
        "    def human(self):\n",
        "        print(\"HELLO WORLD\")\n",
        "\n",
        "    def calculation(self, value):\n",
        "        z = (value + 10) * 10\n",
        "\n",
        "life = world()\n",
        "\n",
        "life.human()\n",
        "life.calculation(3)"
      ]
    },
    {
      "cell_type": "code",
      "execution_count": null,
      "metadata": {
        "colab": {
          "base_uri": "https://localhost:8080/"
        },
        "id": "PZbHNnjgkelm",
        "outputId": "af075d57-6baf-44d3-817f-ea7d4bc2a1ed"
      },
      "outputs": [
        {
          "name": "stdout",
          "output_type": "stream",
          "text": [
            "HELLO WORLD\n"
          ]
        }
      ],
      "source": [
        "class world:\n",
        "    def human(self):\n",
        "        print(\"HELLO WORLD\")\n",
        "\n",
        "    def calculation(self, value):\n",
        "        z = (value + 10) * 10\n",
        "\n",
        "life = world()\n",
        "\n",
        "life.human()\n",
        "life.calculation(3)"
      ]
    },
    {
      "cell_type": "code",
      "execution_count": null,
      "metadata": {
        "colab": {
          "base_uri": "https://localhost:8080/",
          "height": 180
        },
        "id": "KJPTbWM9Oi3L",
        "outputId": "37ed13af-979c-4841-f1d1-ea0fb2260cdc"
      },
      "outputs": [
        {
          "ename": "IndentationError",
          "evalue": "expected an indented block after 'if' statement on line 1 (<ipython-input-4-d7c44c1430a1>, line 2)",
          "output_type": "error",
          "traceback": [
            "\u001b[0;36m  File \u001b[0;32m\"<ipython-input-4-d7c44c1430a1>\"\u001b[0;36m, line \u001b[0;32m2\u001b[0m\n\u001b[0;31m    print(\"Four is greater than two!\")\u001b[0m\n\u001b[0m    ^\u001b[0m\n\u001b[0;31mIndentationError\u001b[0m\u001b[0;31m:\u001b[0m expected an indented block after 'if' statement on line 1\n"
          ]
        }
      ],
      "source": [
        "if 4 > 2:\n",
        "print(\"Four is greater than two!\")"
      ]
    },
    {
      "cell_type": "code",
      "execution_count": null,
      "metadata": {
        "colab": {
          "base_uri": "https://localhost:8080/"
        },
        "id": "vxXF_JhenuCM",
        "outputId": "e96164ba-78d9-4ff6-9a28-27084bf649af"
      },
      "outputs": [
        {
          "name": "stdout",
          "output_type": "stream",
          "text": [
            " n\n"
          ]
        }
      ],
      "source": [
        "a=\"my name\"\n",
        "print(a[2:4])"
      ]
    },
    {
      "cell_type": "code",
      "execution_count": null,
      "metadata": {
        "id": "7mNez5fDOs1y"
      },
      "outputs": [],
      "source": [
        "if 60 > 90:\n",
        " print(\" 60 is smaller than 20!\")"
      ]
    },
    {
      "cell_type": "code",
      "execution_count": null,
      "metadata": {
        "colab": {
          "base_uri": "https://localhost:8080/"
        },
        "id": "RfI9Qj2gQAnv",
        "outputId": "4aec6d9a-c3c9-4c7e-9d97-f4d0fcde91e0"
      },
      "outputs": [
        {
          "output_type": "stream",
          "name": "stdout",
          "text": [
            "Five is greater than two!\n",
            "Five is greater than two!\n"
          ]
        }
      ],
      "source": [
        "if 5 > 2:#if conditional statement\n",
        " print(\"Five is greater than two!\")\n",
        " print(\"Five is greater than two!\")"
      ]
    },
    {
      "cell_type": "markdown",
      "metadata": {
        "id": "7r3HVaZNQ5ZQ"
      },
      "source": [
        "python comments"
      ]
    },
    {
      "cell_type": "code",
      "execution_count": null,
      "metadata": {
        "id": "N1kBBbDLRIdu"
      },
      "outputs": [],
      "source": [
        "#This is a comment."
      ]
    },
    {
      "cell_type": "code",
      "execution_count": null,
      "metadata": {
        "id": "9cuUglFaSThV"
      },
      "outputs": [],
      "source": [
        "#This is a comment\n",
        "#written in\n",
        "#more than just one line\n",
        "print(\"Hello, World!\")"
      ]
    },
    {
      "cell_type": "markdown",
      "metadata": {
        "id": "1SK6bLJpUACO"
      },
      "source": [
        "Datatypes"
      ]
    },
    {
      "cell_type": "markdown",
      "metadata": {
        "id": "ojr6m5MQUS0j"
      },
      "source": [
        "numeric -\n",
        "\n",
        "1.int\n",
        "2.float\n",
        "3.complex"
      ]
    },
    {
      "cell_type": "code",
      "execution_count": null,
      "metadata": {
        "id": "xdnuI1G3UCaU"
      },
      "outputs": [],
      "source": [
        "x = 30\n",
        "\n",
        "x = 70.5\n",
        "\n",
        "x = 5j\n"
      ]
    },
    {
      "cell_type": "markdown",
      "metadata": {
        "id": "pxXrOMyaUaRx"
      },
      "source": [
        "\n",
        "apple : this a fruit\n",
        "dictionary"
      ]
    },
    {
      "cell_type": "code",
      "execution_count": null,
      "metadata": {
        "colab": {
          "base_uri": "https://localhost:8080/"
        },
        "id": "6E6mWbPyUhO7",
        "outputId": "6ad5f8fc-6260-4350-c11f-67f6f612bdf3"
      },
      "outputs": [
        {
          "name": "stdout",
          "output_type": "stream",
          "text": [
            "{'name': 'priya', 'age': 1}\n"
          ]
        }
      ],
      "source": [
        "x = {\"name\" : \"priya\", \"age\" : 1}\n",
        "print(x)"
      ]
    },
    {
      "cell_type": "markdown",
      "metadata": {
        "id": "etyDoE9XUnWJ"
      },
      "source": [
        "Boolean"
      ]
    },
    {
      "cell_type": "code",
      "execution_count": null,
      "metadata": {
        "id": "CzdbPUzTVEQj"
      },
      "outputs": [],
      "source": [
        "x = True"
      ]
    },
    {
      "cell_type": "markdown",
      "metadata": {
        "id": "9KL-NzQIVJnX"
      },
      "source": [
        "Set"
      ]
    },
    {
      "cell_type": "code",
      "execution_count": null,
      "metadata": {
        "colab": {
          "base_uri": "https://localhost:8080/"
        },
        "id": "ZUsbweMOVKqZ",
        "outputId": "91736493-0896-40b6-f055-dca96db6cc90"
      },
      "outputs": [
        {
          "name": "stdout",
          "output_type": "stream",
          "text": [
            "<class 'set'>\n"
          ]
        }
      ],
      "source": [
        "x = {\"computer\", \"science\", \"engineering\"}\n",
        "print(type(x))"
      ]
    },
    {
      "cell_type": "markdown",
      "metadata": {
        "id": "pkCtdmsBVXzy"
      },
      "source": [
        "Sequence type\n",
        "\n",
        "1.list\n",
        "2.tuple\n",
        "3.string"
      ]
    },
    {
      "cell_type": "code",
      "execution_count": null,
      "metadata": {
        "id": "1-KKOp-oVfQY"
      },
      "outputs": [],
      "source": [
        "x = [\"apple\", \"banana\", \"cherry\"] #list #mutable\n",
        "\n",
        "x = (\"apple\", \"banana\", \"cherry\")#tuple #immutable\n",
        "\n",
        "x = \"Hello World\" #string"
      ]
    },
    {
      "cell_type": "markdown",
      "metadata": {
        "id": "zqpT5pgiQGps"
      },
      "source": [
        "Python Variables"
      ]
    },
    {
      "cell_type": "code",
      "execution_count": null,
      "metadata": {
        "id": "-EsE9OWlQaTd"
      },
      "outputs": [],
      "source": [
        "x = 10\n",
        "y = \"Hello, World!\""
      ]
    },
    {
      "cell_type": "markdown",
      "metadata": {
        "id": "hiIYSWuIV4z6"
      },
      "source": [
        "Variable\n",
        "\n",
        "Illegal variable names:"
      ]
    },
    {
      "cell_type": "code",
      "execution_count": null,
      "metadata": {
        "colab": {
          "base_uri": "https://localhost:8080/",
          "height": 106
        },
        "id": "9uOlIzC7WCQ6",
        "outputId": "db4f83c1-67da-4be0-d5ac-6c93a72eae08"
      },
      "outputs": [
        {
          "ename": "SyntaxError",
          "evalue": "invalid decimal literal (<ipython-input-4-0e82719f22b4>, line 1)",
          "output_type": "error",
          "traceback": [
            "\u001b[0;36m  File \u001b[0;32m\"<ipython-input-4-0e82719f22b4>\"\u001b[0;36m, line \u001b[0;32m1\u001b[0m\n\u001b[0;31m    2myvar = \"John\"\u001b[0m\n\u001b[0m    ^\u001b[0m\n\u001b[0;31mSyntaxError\u001b[0m\u001b[0;31m:\u001b[0m invalid decimal literal\n"
          ]
        }
      ],
      "source": [
        "2myvar = \"John\"\n",
        "my-var = \"John\"\n",
        "my var = \"John\""
      ]
    },
    {
      "cell_type": "markdown",
      "metadata": {
        "id": "umGXqU1LWHe3"
      },
      "source": [
        "legal variable names:"
      ]
    },
    {
      "cell_type": "code",
      "execution_count": null,
      "metadata": {
        "id": "88BB9et-WKOO"
      },
      "outputs": [],
      "source": [
        "myvar = \"John\"\n",
        "my_var = \"John\"\n",
        "_my_var = \"John\"\n",
        "myVar = \"John\"\n",
        "MYVAR = \"John\"\n",
        "myvar2 = \"John\"\n"
      ]
    },
    {
      "cell_type": "code",
      "execution_count": null,
      "metadata": {
        "colab": {
          "base_uri": "https://localhost:8080/"
        },
        "id": "RwR3TtPoWSDW",
        "outputId": "5f277cd8-d364-447f-d6fa-bafe5ee39388"
      },
      "outputs": [
        {
          "name": "stdout",
          "output_type": "stream",
          "text": [
            "John\n"
          ]
        }
      ],
      "source": [
        "x = \"John\"\n",
        "# is the same as\n",
        "X = 'roger'\n",
        "print(x)"
      ]
    },
    {
      "cell_type": "markdown",
      "metadata": {
        "id": "hRiJcbRWWqXk"
      },
      "source": [
        "Case Sensitive"
      ]
    },
    {
      "cell_type": "code",
      "execution_count": null,
      "metadata": {
        "colab": {
          "base_uri": "https://localhost:8080/"
        },
        "id": "s-mHqbfDWSzR",
        "outputId": "107de4b5-f309-4c50-b435-f2f043717cfb"
      },
      "outputs": [
        {
          "name": "stdout",
          "output_type": "stream",
          "text": [
            "Sally\n"
          ]
        }
      ],
      "source": [
        "a = 4\n",
        "A = \"Sally\"\n",
        "print(A)\n",
        "#A will not overwrite a"
      ]
    },
    {
      "cell_type": "markdown",
      "metadata": {
        "id": "_Z8iXeCMXc8G"
      },
      "source": [
        "Camel Case,Pascal Case,Snake Case"
      ]
    },
    {
      "cell_type": "code",
      "execution_count": null,
      "metadata": {
        "id": "_Pd0M7mCXdwN"
      },
      "outputs": [],
      "source": [
        "myVariableName = \"John\"\n",
        "\n",
        "MyVariableName = \"John\"\n",
        "\n",
        "my_variable_name = \"John\""
      ]
    },
    {
      "cell_type": "markdown",
      "metadata": {
        "id": "SRXR7ENKZjkP"
      },
      "source": [
        "Multiple Variables"
      ]
    },
    {
      "cell_type": "code",
      "execution_count": null,
      "metadata": {
        "colab": {
          "base_uri": "https://localhost:8080/"
        },
        "id": "43NJ2N_pZlur",
        "outputId": "a36e8df5-1f98-4314-ec3f-8dd8c926b3fa"
      },
      "outputs": [
        {
          "name": "stdout",
          "output_type": "stream",
          "text": [
            "Orange\n",
            "Banana\n",
            "Cherry\n"
          ]
        }
      ],
      "source": [
        "x, y, z = \"Orange\", \"Banana\", \"Cherry\"\n",
        "print(x)\n",
        "print(y)\n",
        "print(z)"
      ]
    },
    {
      "cell_type": "code",
      "execution_count": null,
      "metadata": {
        "colab": {
          "base_uri": "https://localhost:8080/"
        },
        "id": "C1QeWBt4ZsKx",
        "outputId": "ab0a5a0f-eeab-452e-a9eb-fb7985515d86"
      },
      "outputs": [
        {
          "name": "stdout",
          "output_type": "stream",
          "text": [
            "Orange\n",
            "Orange\n",
            "Orange\n"
          ]
        }
      ],
      "source": [
        "x = y = z = \"Orange\"\n",
        "print(x)\n",
        "print(y)\n",
        "print(z)"
      ]
    },
    {
      "cell_type": "code",
      "execution_count": null,
      "metadata": {
        "colab": {
          "base_uri": "https://localhost:8080/"
        },
        "id": "io2jwqK6Zy-b",
        "outputId": "28bbd448-6484-49a4-bdd7-340222d2a775"
      },
      "outputs": [
        {
          "name": "stdout",
          "output_type": "stream",
          "text": [
            "apple\n",
            "banana\n",
            "cherry\n"
          ]
        }
      ],
      "source": [
        "fruits = [\"apple\", \"banana\", \"cherry\"]\n",
        "x, y, z = fruits\n",
        "\n",
        "print(x)\n",
        "print(y)\n",
        "print(z)\n"
      ]
    },
    {
      "cell_type": "code",
      "execution_count": null,
      "metadata": {
        "colab": {
          "base_uri": "https://localhost:8080/"
        },
        "id": "-177PZiYZ1-y",
        "outputId": "f6fe20fe-7c3c-48a5-9f5f-3a0fdd9ca754"
      },
      "outputs": [
        {
          "name": "stdout",
          "output_type": "stream",
          "text": [
            "Python is awesome\n"
          ]
        }
      ],
      "source": [
        "x = \"Python\"\n",
        "y = \"is\"\n",
        "z = \"awesome\"\n",
        "print(x, y, z)"
      ]
    },
    {
      "cell_type": "code",
      "execution_count": null,
      "metadata": {
        "colab": {
          "base_uri": "https://localhost:8080/"
        },
        "id": "fx5Uj_UcZ4P8",
        "outputId": "efcb4f88-50de-4b0c-80d6-277b66ba210f"
      },
      "outputs": [
        {
          "name": "stdout",
          "output_type": "stream",
          "text": [
            "Pythonisawesome\n"
          ]
        }
      ],
      "source": [
        "x = \"Python\"\n",
        "y = \"is\"\n",
        "z = \"awesome\"\n",
        "print(x + y + z)"
      ]
    },
    {
      "cell_type": "code",
      "execution_count": null,
      "metadata": {
        "colab": {
          "base_uri": "https://localhost:8080/",
          "height": 176
        },
        "id": "zofYhtSOZ6ep",
        "outputId": "400e6c84-5271-46d3-d6fb-1a867293f8f2"
      },
      "outputs": [
        {
          "ename": "TypeError",
          "evalue": "unsupported operand type(s) for +: 'int' and 'str'",
          "output_type": "error",
          "traceback": [
            "\u001b[0;31m---------------------------------------------------------------------------\u001b[0m",
            "\u001b[0;31mTypeError\u001b[0m                                 Traceback (most recent call last)",
            "\u001b[0;32m<ipython-input-4-00c66e4310ff>\u001b[0m in \u001b[0;36m<cell line: 3>\u001b[0;34m()\u001b[0m\n\u001b[1;32m      1\u001b[0m \u001b[0mx\u001b[0m \u001b[0;34m=\u001b[0m \u001b[0;36m5\u001b[0m\u001b[0;34m\u001b[0m\u001b[0;34m\u001b[0m\u001b[0m\n\u001b[1;32m      2\u001b[0m \u001b[0my\u001b[0m \u001b[0;34m=\u001b[0m \u001b[0;34m\"John\"\u001b[0m\u001b[0;34m\u001b[0m\u001b[0;34m\u001b[0m\u001b[0m\n\u001b[0;32m----> 3\u001b[0;31m \u001b[0mprint\u001b[0m\u001b[0;34m(\u001b[0m\u001b[0mx\u001b[0m \u001b[0;34m+\u001b[0m \u001b[0my\u001b[0m\u001b[0;34m)\u001b[0m\u001b[0;34m\u001b[0m\u001b[0;34m\u001b[0m\u001b[0m\n\u001b[0m",
            "\u001b[0;31mTypeError\u001b[0m: unsupported operand type(s) for +: 'int' and 'str'"
          ]
        }
      ],
      "source": [
        "x = 5\n",
        "y = \"John\"\n",
        "print(x + y)"
      ]
    },
    {
      "cell_type": "code",
      "execution_count": null,
      "metadata": {
        "colab": {
          "base_uri": "https://localhost:8080/"
        },
        "id": "FU3zrLSpaHyg",
        "outputId": "f3b90e59-c3db-4c8b-e42e-2c8917fe1cf2"
      },
      "outputs": [
        {
          "name": "stdout",
          "output_type": "stream",
          "text": [
            "15\n"
          ]
        }
      ],
      "source": [
        "x = 5\n",
        "y = 10\n",
        "print(x + y)"
      ]
    },
    {
      "cell_type": "code",
      "execution_count": null,
      "metadata": {
        "colab": {
          "base_uri": "https://localhost:8080/",
          "height": 428
        },
        "id": "o0H-1ftsVDe-",
        "outputId": "7833fd81-5487-44c3-c7d4-c10df537537a"
      },
      "outputs": [
        {
          "ename": "ValueError",
          "evalue": "invalid literal for int() with base 10: 'string'",
          "output_type": "error",
          "traceback": [
            "\u001b[0;31m---------------------------------------------------------------------------\u001b[0m",
            "\u001b[0;31mValueError\u001b[0m                                Traceback (most recent call last)",
            "\u001b[0;32m<ipython-input-1-32e4c1077f29>\u001b[0m in \u001b[0;36m<cell line: 1>\u001b[0;34m()\u001b[0m\n\u001b[0;32m----> 1\u001b[0;31m \u001b[0ms\u001b[0m \u001b[0;34m=\u001b[0m \u001b[0mint\u001b[0m\u001b[0;34m(\u001b[0m\u001b[0;34m'string'\u001b[0m\u001b[0;34m)\u001b[0m\u001b[0;34m\u001b[0m\u001b[0;34m\u001b[0m\u001b[0m\n\u001b[0m\u001b[1;32m      2\u001b[0m \u001b[0mprint\u001b[0m\u001b[0;34m(\u001b[0m\u001b[0ms\u001b[0m\u001b[0;34m)\u001b[0m\u001b[0;34m\u001b[0m\u001b[0;34m\u001b[0m\u001b[0m\n",
            "\u001b[0;31mValueError\u001b[0m: invalid literal for int() with base 10: 'string'"
          ]
        }
      ],
      "source": [
        "s = int('string')\n",
        "print(s)"
      ]
    },
    {
      "cell_type": "markdown",
      "metadata": {
        "id": "W6xcdAmcU-5j"
      },
      "source": []
    },
    {
      "cell_type": "code",
      "execution_count": null,
      "metadata": {
        "id": "ZoASessuaKb6"
      },
      "outputs": [],
      "source": [
        "x = 5\n",
        "y = \"John\"\n",
        "print(x, y)\n"
      ]
    },
    {
      "cell_type": "markdown",
      "metadata": {
        "id": "h8aKltuhaNLN"
      },
      "source": [
        "Global Variable"
      ]
    },
    {
      "cell_type": "code",
      "execution_count": null,
      "metadata": {
        "colab": {
          "base_uri": "https://localhost:8080/"
        },
        "id": "PVo8EQbwaPRA",
        "outputId": "329efc3b-ef5a-41d0-93eb-3eb3310750ea"
      },
      "outputs": [
        {
          "name": "stdout",
          "output_type": "stream",
          "text": [
            "Python is awesome\n"
          ]
        }
      ],
      "source": [
        "x = \"awesome\"\n",
        "\n",
        "def myfunc():\n",
        "  print(\"Python is \" + x)\n",
        "\n",
        "myfunc()\n"
      ]
    },
    {
      "cell_type": "code",
      "execution_count": null,
      "metadata": {
        "colab": {
          "base_uri": "https://localhost:8080/"
        },
        "id": "qVbfT58jaSYC",
        "outputId": "0d552f89-8926-41be-c035-9156271c6337"
      },
      "outputs": [
        {
          "name": "stdout",
          "output_type": "stream",
          "text": [
            "Python is fantastic\n",
            "Python is awesome\n"
          ]
        }
      ],
      "source": [
        "x = \"awesome\"\n",
        "\n",
        "def myfunc():\n",
        "  x = \"fantastic\"\n",
        "  print(\"Python is \" + x)\n",
        "\n",
        "myfunc()\n",
        "\n",
        "print(\"Python is \" + x)"
      ]
    },
    {
      "cell_type": "code",
      "execution_count": null,
      "metadata": {
        "colab": {
          "base_uri": "https://localhost:8080/"
        },
        "id": "g6eiGysVaV4M",
        "outputId": "e3bbe090-13cf-4b09-85df-e0387329b3bc"
      },
      "outputs": [
        {
          "name": "stdout",
          "output_type": "stream",
          "text": [
            "Python is fantastic\n"
          ]
        }
      ],
      "source": [
        "def myfunc():\n",
        "  global x\n",
        "  x = \"fantastic\"\n",
        "\n",
        "myfunc()\n",
        "\n",
        "print(\"Python is \" + x)"
      ]
    },
    {
      "cell_type": "code",
      "execution_count": null,
      "metadata": {
        "colab": {
          "base_uri": "https://localhost:8080/"
        },
        "id": "aDRQLkr8aX3H",
        "outputId": "1987a68f-c918-4c21-a96f-c186c45efcad"
      },
      "outputs": [
        {
          "name": "stdout",
          "output_type": "stream",
          "text": [
            "Python is fantastic\n"
          ]
        }
      ],
      "source": [
        "x = \"awesome\"\n",
        "\n",
        "def myfunc():\n",
        "  global x\n",
        "  x = \"fantastic\"\n",
        "\n",
        "myfunc()\n",
        "\n",
        "print(\"Python is \" + x)"
      ]
    },
    {
      "cell_type": "markdown",
      "metadata": {
        "id": "T59XBp4-a7de"
      },
      "source": [
        "Casting"
      ]
    },
    {
      "cell_type": "code",
      "execution_count": null,
      "metadata": {
        "id": "vcWognZEb3D_"
      },
      "outputs": [],
      "source": [
        "x = str(3)    # x will be '3'\n",
        "y = int(3)    # y will be 3\n",
        "z = float(3)  # z will be 3.0"
      ]
    },
    {
      "cell_type": "markdown",
      "metadata": {
        "id": "SiB96YucccHX"
      },
      "source": [
        "get the type"
      ]
    },
    {
      "cell_type": "code",
      "execution_count": null,
      "metadata": {
        "colab": {
          "base_uri": "https://localhost:8080/"
        },
        "id": "dje7_3EAb-Jh",
        "outputId": "0c785985-26b1-4f03-9603-8b8e4ad2dbc4"
      },
      "outputs": [
        {
          "name": "stdout",
          "output_type": "stream",
          "text": [
            "<class 'int'>\n",
            "<class 'str'>\n"
          ]
        }
      ],
      "source": [
        "x = 5\n",
        "y = \"John\"\n",
        "print(type(x))\n",
        "print(type(y))"
      ]
    },
    {
      "cell_type": "code",
      "execution_count": null,
      "metadata": {
        "id": "Tpxj6jWBa6gi"
      },
      "outputs": [],
      "source": [
        "x=str(10)\n",
        "print(type(x))"
      ]
    },
    {
      "cell_type": "markdown",
      "metadata": {
        "id": "MenKxopRWBee"
      },
      "source": [
        "arr[8] = [m , h ,j ,k ,l ,d,s,a,]\n",
        "              0,1...."
      ]
    },
    {
      "cell_type": "markdown",
      "metadata": {
        "id": "gcxUDMtNlLhs"
      },
      "source": [
        "Strings\n",
        "\n",
        "Strings are Arrays\n",
        "\n",
        "h-0\n",
        "\n",
        "e-1\n",
        "\n",
        "l-2..."
      ]
    },
    {
      "cell_type": "code",
      "execution_count": null,
      "metadata": {
        "colab": {
          "base_uri": "https://localhost:8080/"
        },
        "id": "nZwsbrP2lOWZ",
        "outputId": "fd67931d-5c80-4276-96ed-5f6c6a0312ed"
      },
      "outputs": [
        {
          "output_type": "stream",
          "name": "stdout",
          "text": [
            "o\n"
          ]
        }
      ],
      "source": [
        "a = \"Hello, World!\"\n",
        "print(a[4])"
      ]
    },
    {
      "cell_type": "code",
      "execution_count": null,
      "metadata": {
        "colab": {
          "base_uri": "https://localhost:8080/"
        },
        "id": "jSNoAv9IldYN",
        "outputId": "eae5a9a9-c7d0-4a15-dbe2-8e647ec30657"
      },
      "outputs": [
        {
          "name": "stdout",
          "output_type": "stream",
          "text": [
            "n\n"
          ]
        }
      ],
      "source": [
        "a=[\"m\",\"n\"]\n",
        "print(a[1])"
      ]
    },
    {
      "cell_type": "code",
      "execution_count": null,
      "metadata": {
        "colab": {
          "base_uri": "https://localhost:8080/"
        },
        "id": "NueuzYhwlg2r",
        "outputId": "0b6134b7-ef34-4ce4-b8f2-ff7c58fb20a7"
      },
      "outputs": [
        {
          "name": "stdout",
          "output_type": "stream",
          "text": [
            "b\n",
            "a\n",
            "n\n",
            "a\n",
            "n\n",
            "a\n"
          ]
        }
      ],
      "source": [
        "for x in \"banana\":\n",
        "  print(x)"
      ]
    },
    {
      "cell_type": "code",
      "execution_count": null,
      "metadata": {
        "id": "5bt60cXOlrQM"
      },
      "outputs": [],
      "source": [
        "a =\"Hello, World!\"\n",
        "print(len(a))"
      ]
    },
    {
      "cell_type": "code",
      "execution_count": null,
      "metadata": {
        "colab": {
          "base_uri": "https://localhost:8080/"
        },
        "id": "c0CF_2bVl7NC",
        "outputId": "a68d5440-db5e-40d2-90cc-0ff5488841a5"
      },
      "outputs": [
        {
          "name": "stdout",
          "output_type": "stream",
          "text": [
            "True\n"
          ]
        }
      ],
      "source": [
        "txt = \"The best things in life are free!\"\n",
        "print(\"free\" in txt)#checking"
      ]
    },
    {
      "cell_type": "code",
      "execution_count": null,
      "metadata": {
        "colab": {
          "base_uri": "https://localhost:8080/"
        },
        "id": "hYSi8Ruul-0h",
        "outputId": "2610c01f-0a8a-4900-8270-279c86ea67f2"
      },
      "outputs": [
        {
          "name": "stdout",
          "output_type": "stream",
          "text": [
            "True\n"
          ]
        }
      ],
      "source": [
        "txt = \"The best things in life are free!\"\n",
        "print(\"expensive\" not in txt)#checking not"
      ]
    },
    {
      "cell_type": "markdown",
      "metadata": {
        "id": "4qv9xvtpmCGG"
      },
      "source": [
        "Slicing"
      ]
    },
    {
      "cell_type": "code",
      "execution_count": null,
      "metadata": {
        "colab": {
          "base_uri": "https://localhost:8080/"
        },
        "id": "-_MjVQRnnJD8",
        "outputId": "eab14581-56d8-4226-bffc-cb714747ffd4"
      },
      "outputs": [
        {
          "output_type": "stream",
          "name": "stdout",
          "text": [
            "llo wo\n"
          ]
        }
      ],
      "source": [
        "a=\"hello world!\"\n",
        "print(a[2:8])"
      ]
    },
    {
      "cell_type": "code",
      "execution_count": null,
      "metadata": {
        "colab": {
          "base_uri": "https://localhost:8080/"
        },
        "id": "EgB9Ph9xmCrP",
        "outputId": "2b9eefa3-2291-49e3-dd55-c00059b0dc60"
      },
      "outputs": [
        {
          "name": "stdout",
          "output_type": "stream",
          "text": [
            "Hell\n"
          ]
        }
      ],
      "source": [
        "b = \" Hello, World!\"\n",
        "print(b[1:5])"
      ]
    },
    {
      "cell_type": "code",
      "execution_count": null,
      "metadata": {
        "colab": {
          "base_uri": "https://localhost:8080/"
        },
        "id": "KCKdks9omOF_",
        "outputId": "fd637613-6fa4-4d53-e0dd-ac16571cbf01"
      },
      "outputs": [
        {
          "name": "stdout",
          "output_type": "stream",
          "text": [
            "Hello\n"
          ]
        }
      ],
      "source": [
        "b = \"Hello, World!\"\n",
        "print(b[:5])\n"
      ]
    },
    {
      "cell_type": "code",
      "execution_count": null,
      "metadata": {
        "colab": {
          "base_uri": "https://localhost:8080/"
        },
        "id": "x6bP4kX8mSk3",
        "outputId": "05c6517b-6b4e-425b-8419-7384d5fadacf"
      },
      "outputs": [
        {
          "name": "stdout",
          "output_type": "stream",
          "text": [
            "llo, World!\n"
          ]
        }
      ],
      "source": [
        "b = \"Hello, World!\"\n",
        "print(b[2:])"
      ]
    },
    {
      "cell_type": "code",
      "execution_count": null,
      "metadata": {
        "colab": {
          "base_uri": "https://localhost:8080/"
        },
        "id": "qJIDXQdfmVoM",
        "outputId": "5ef55c66-3137-4898-e491-ae161e6fffcb"
      },
      "outputs": [
        {
          "name": "stdout",
          "output_type": "stream",
          "text": [
            "orl\n"
          ]
        }
      ],
      "source": [
        "b = \"Hello, World!\"\n",
        "print(b[-5:-2])"
      ]
    },
    {
      "cell_type": "code",
      "execution_count": null,
      "metadata": {
        "colab": {
          "base_uri": "https://localhost:8080/"
        },
        "id": "RWX0-EXzmZEJ",
        "outputId": "fbf65ec3-48a4-43a6-d659-4c10bda96e9d"
      },
      "outputs": [
        {
          "name": "stdout",
          "output_type": "stream",
          "text": [
            "HELLO, WORLD!\n"
          ]
        }
      ],
      "source": [
        "a = \"Hello, World!\"\n",
        "print(a.upper())"
      ]
    },
    {
      "cell_type": "code",
      "execution_count": null,
      "metadata": {
        "colab": {
          "base_uri": "https://localhost:8080/"
        },
        "id": "ft6UkoiXmbZQ",
        "outputId": "9c9bdb32-a6ed-4be4-c709-323ae22af511"
      },
      "outputs": [
        {
          "name": "stdout",
          "output_type": "stream",
          "text": [
            "hello, world!\n"
          ]
        }
      ],
      "source": [
        "a = \"Hello, World!\"\n",
        "print(a.lower())"
      ]
    },
    {
      "cell_type": "code",
      "execution_count": null,
      "metadata": {
        "colab": {
          "base_uri": "https://localhost:8080/"
        },
        "id": "uA8y7pdfmd0B",
        "outputId": "789309b2-052a-435c-fa98-b715db4858cd"
      },
      "outputs": [
        {
          "name": "stdout",
          "output_type": "stream",
          "text": [
            "Hello, World!\n"
          ]
        }
      ],
      "source": [
        "a = \" Hello,  World! \"\n",
        "print(a.strip()) # returns \"Hello, World!\""
      ]
    },
    {
      "cell_type": "code",
      "execution_count": null,
      "metadata": {
        "colab": {
          "base_uri": "https://localhost:8080/"
        },
        "id": "GamsTwX2mgKD",
        "outputId": "f72c82bc-2219-407f-9cd8-c9a31338ddf4"
      },
      "outputs": [
        {
          "name": "stdout",
          "output_type": "stream",
          "text": [
            "Jello, World!\n"
          ]
        }
      ],
      "source": [
        "a = \"Hello, World!\"\n",
        "print(a.replace(\"H\", \"J\"))"
      ]
    },
    {
      "cell_type": "code",
      "execution_count": null,
      "metadata": {
        "colab": {
          "base_uri": "https://localhost:8080/"
        },
        "id": "syWUkcWRmmQK",
        "outputId": "fb40f66a-b162-415b-d68a-06a0ebd1cab9"
      },
      "outputs": [
        {
          "name": "stdout",
          "output_type": "stream",
          "text": [
            "['Hello', ' World!']\n"
          ]
        }
      ],
      "source": [
        "a = \"Hello, World!\"\n",
        "print(a.split(\",\")) # returns ['Hello', ' World!']"
      ]
    },
    {
      "cell_type": "code",
      "execution_count": null,
      "metadata": {
        "colab": {
          "base_uri": "https://localhost:8080/"
        },
        "id": "keIQFcMtmqrs",
        "outputId": "fca7f30d-7c27-4151-d053-6d5fca92ca2a"
      },
      "outputs": [
        {
          "name": "stdout",
          "output_type": "stream",
          "text": [
            "Hello World\n"
          ]
        }
      ],
      "source": [
        "a = \"Hello\"\n",
        "b = \"World\"\n",
        "c = a+b\n",
        "print(c)"
      ]
    },
    {
      "cell_type": "code",
      "execution_count": null,
      "metadata": {
        "colab": {
          "base_uri": "https://localhost:8080/"
        },
        "id": "V3NK8RcimtU7",
        "outputId": "8d20e7eb-9612-4d0d-82be-be08190387e6"
      },
      "outputs": [
        {
          "name": "stdout",
          "output_type": "stream",
          "text": [
            "HelloWorld\n"
          ]
        }
      ],
      "source": [
        "a = \"Hello\"\n",
        "b = \"World\"\n",
        "c = a + \" \" +b\n",
        "print(c)"
      ]
    },
    {
      "cell_type": "code",
      "execution_count": null,
      "metadata": {
        "colab": {
          "base_uri": "https://localhost:8080/",
          "height": 176
        },
        "id": "DYnmHgtCm8mo",
        "outputId": "c1309f1e-64fc-4e13-8857-d7df1ab156d1"
      },
      "outputs": [
        {
          "ename": "TypeError",
          "evalue": "can only concatenate str (not \"int\") to str",
          "output_type": "error",
          "traceback": [
            "\u001b[0;31m---------------------------------------------------------------------------\u001b[0m",
            "\u001b[0;31mTypeError\u001b[0m                                 Traceback (most recent call last)",
            "\u001b[0;32m<ipython-input-1-4d1b227cff41>\u001b[0m in \u001b[0;36m<cell line: 2>\u001b[0;34m()\u001b[0m\n\u001b[1;32m      1\u001b[0m \u001b[0mage\u001b[0m \u001b[0;34m=\u001b[0m \u001b[0;36m36\u001b[0m\u001b[0;34m\u001b[0m\u001b[0;34m\u001b[0m\u001b[0m\n\u001b[0;32m----> 2\u001b[0;31m \u001b[0mtxt\u001b[0m \u001b[0;34m=\u001b[0m \u001b[0;34m\"My name is John, I am \"\u001b[0m \u001b[0;34m+\u001b[0m \u001b[0mage\u001b[0m\u001b[0;34m\u001b[0m\u001b[0;34m\u001b[0m\u001b[0m\n\u001b[0m\u001b[1;32m      3\u001b[0m \u001b[0mprint\u001b[0m\u001b[0;34m(\u001b[0m\u001b[0mtxt\u001b[0m\u001b[0;34m)\u001b[0m\u001b[0;34m\u001b[0m\u001b[0;34m\u001b[0m\u001b[0m\n",
            "\u001b[0;31mTypeError\u001b[0m: can only concatenate str (not \"int\") to str"
          ]
        }
      ],
      "source": [
        "age = 36\n",
        "txt = \"My name is John, I am \" + age\n",
        "print(txt)"
      ]
    },
    {
      "cell_type": "code",
      "execution_count": null,
      "metadata": {
        "colab": {
          "base_uri": "https://localhost:8080/"
        },
        "id": "Y_I6tVoWm_-t",
        "outputId": "010c41ad-bccd-47ce-83f1-5f55920a3843"
      },
      "outputs": [
        {
          "name": "stdout",
          "output_type": "stream",
          "text": [
            "My name is John, and I am 36\n"
          ]
        }
      ],
      "source": [
        "age = 36\n",
        "txt = \"My name is John, and I am {}\"\n",
        "print(txt.format(age))\n"
      ]
    },
    {
      "cell_type": "code",
      "execution_count": null,
      "metadata": {
        "colab": {
          "base_uri": "https://localhost:8080/"
        },
        "id": "mFWf5RgJnGR0",
        "outputId": "919eea66-c3a6-469a-dd5a-ec9fa9e51ccc"
      },
      "outputs": [
        {
          "output_type": "stream",
          "name": "stdout",
          "text": [
            "I want 567 pieces of item 567 for 3 dollars.\n"
          ]
        }
      ],
      "source": [
        "quantity = 567\n",
        "itemno = 567\n",
        "price = 3\n",
        "myorder = \"I want {} pieces of item {} for {} dollars.\"\n",
        "print(myorder.format(quantity, itemno, price))"
      ]
    },
    {
      "cell_type": "code",
      "execution_count": null,
      "metadata": {
        "colab": {
          "base_uri": "https://localhost:8080/"
        },
        "id": "jbs_1ZEinI_r",
        "outputId": "ffc9731f-f5aa-4ddf-84a5-fa52a2328867"
      },
      "outputs": [
        {
          "output_type": "stream",
          "name": "stdout",
          "text": [
            "I want to pay 49.95 dollars for 3 pieces of item 567.\n"
          ]
        }
      ],
      "source": [
        "quantity = 3\n",
        "itemno = 567\n",
        "price = 49.95\n",
        "myorder = \"I want to pay {2} dollars for {0} pieces of item {1}.\"\n",
        "print(myorder.format(quantity, itemno, price))\n"
      ]
    },
    {
      "cell_type": "markdown",
      "metadata": {
        "id": "wYBwJNrNnrKP"
      },
      "source": [
        "conditional statement\n",
        "\n",
        "1. if\n",
        "\n",
        "2. elif\n",
        "\n",
        "3. else"
      ]
    },
    {
      "cell_type": "code",
      "execution_count": null,
      "metadata": {
        "id": "oINWB3kTnv1S",
        "outputId": "8789efdd-d891-4ae2-f48c-0ceeb94b3afa",
        "colab": {
          "base_uri": "https://localhost:8080/"
        }
      },
      "outputs": [
        {
          "output_type": "stream",
          "name": "stdout",
          "text": [
            "b is greater than a\n"
          ]
        }
      ],
      "source": [
        "a = 33\n",
        "b = 200\n",
        "if b > a:\n",
        "  print(\"b is greater than a\")"
      ]
    },
    {
      "cell_type": "code",
      "execution_count": null,
      "metadata": {
        "id": "pBhhEUonzhXy",
        "colab": {
          "base_uri": "https://localhost:8080/"
        },
        "outputId": "6aae366a-5d86-4781-a2aa-89880e28871a"
      },
      "outputs": [
        {
          "output_type": "stream",
          "name": "stdout",
          "text": [
            "enter a value:1\n",
            "1\n",
            "<class 'int'>\n"
          ]
        }
      ],
      "source": [
        "a=int(input(\"enter a value:\"))\n",
        "print(a)\n",
        "print(type(a))"
      ]
    },
    {
      "cell_type": "code",
      "execution_count": null,
      "metadata": {
        "colab": {
          "base_uri": "https://localhost:8080/"
        },
        "id": "dfXhNJatn1T4",
        "outputId": "87d0a56e-fca7-4fa9-b482-d34012c302a2"
      },
      "outputs": [
        {
          "output_type": "stream",
          "name": "stdout",
          "text": [
            "a and b are equal\n"
          ]
        }
      ],
      "source": [
        "\n",
        "a = 33\n",
        "b = 33\n",
        "if b > a:\n",
        "  print(\"b is greater than a\")\n",
        "elif a == b:\n",
        "  print(\"a and b are equal\")"
      ]
    },
    {
      "cell_type": "code",
      "execution_count": null,
      "metadata": {
        "colab": {
          "base_uri": "https://localhost:8080/"
        },
        "id": "bvuNOaHuoAYN",
        "outputId": "87b0e99f-45ac-4756-cf71-f6c14dd1c108"
      },
      "outputs": [
        {
          "name": "stdout",
          "output_type": "stream",
          "text": [
            "a is greater than b\n"
          ]
        }
      ],
      "source": [
        "a = 200\n",
        "b = 33\n",
        "if b > a:\n",
        "  print(\"b is greater than a\")\n",
        "elif a == b:\n",
        "  print(\"a and b are equal\")\n",
        "else:\n",
        "  print(\"a is greater than b\")"
      ]
    },
    {
      "cell_type": "code",
      "execution_count": null,
      "metadata": {
        "id": "DVsy-yaIoHh0",
        "colab": {
          "base_uri": "https://localhost:8080/"
        },
        "outputId": "36c11920-b505-403f-fed7-32aa6366a671"
      },
      "outputs": [
        {
          "output_type": "stream",
          "name": "stdout",
          "text": [
            "b is not greater than a\n"
          ]
        }
      ],
      "source": [
        "a = 200\n",
        "b = 33\n",
        "if b > a:\n",
        "  print(\"b is greater than a\")\n",
        "else:\n",
        "  print(\"b is not greater than a\")"
      ]
    },
    {
      "cell_type": "markdown",
      "metadata": {
        "id": "CpqlmSXxoJ6p"
      },
      "source": [
        "looping statements\n",
        "\n",
        "1. for - for i in string\n",
        "\n",
        "2. while\n",
        "\n"
      ]
    },
    {
      "cell_type": "code",
      "execution_count": null,
      "metadata": {
        "colab": {
          "base_uri": "https://localhost:8080/"
        },
        "id": "OzAw9BLLxzWo",
        "outputId": "3a0c68ef-0df3-4085-afde-966eb047f013"
      },
      "outputs": [
        {
          "name": "stdout",
          "output_type": "stream",
          "text": [
            "h\n",
            "e\n",
            "l\n",
            "l\n",
            "o\n",
            "w\n",
            "o\n",
            "r\n",
            "l\n",
            "d\n"
          ]
        }
      ],
      "source": [
        "for x in \"helloworld\":\n",
        "  print(x)"
      ]
    },
    {
      "cell_type": "code",
      "execution_count": null,
      "metadata": {
        "colab": {
          "base_uri": "https://localhost:8080/"
        },
        "id": "nZSvt5NQoqlv",
        "outputId": "0c5a506e-7209-4d8f-a180-f9d2d3fcf19b"
      },
      "outputs": [
        {
          "name": "stdout",
          "output_type": "stream",
          "text": [
            "apple\n",
            "banana\n",
            "cherry\n"
          ]
        }
      ],
      "source": [
        "fruits = [\"apple\", \"banana\", \"cherry\"]\n",
        "for x in fruits:\n",
        "  print(x)"
      ]
    },
    {
      "cell_type": "code",
      "execution_count": null,
      "metadata": {
        "colab": {
          "base_uri": "https://localhost:8080/"
        },
        "id": "fp_T3zgeWEwe",
        "outputId": "6cf3d5de-915e-407e-e65e-d0a1b2dca40e"
      },
      "outputs": [
        {
          "name": "stdout",
          "output_type": "stream",
          "text": [
            "s\n",
            "t\n",
            "r\n",
            "i\n",
            "n\n",
            "g\n"
          ]
        }
      ],
      "source": [
        "for i in \"string\":\n",
        "  print(i)"
      ]
    },
    {
      "cell_type": "code",
      "execution_count": null,
      "metadata": {
        "colab": {
          "base_uri": "https://localhost:8080/"
        },
        "id": "SxG1DTnLb5Cu",
        "outputId": "75d3e4e0-5b53-4160-d563-7a0e34d01736"
      },
      "outputs": [
        {
          "name": "stdout",
          "output_type": "stream",
          "text": [
            "g\n",
            "a\n",
            "t\n",
            "e\n",
            "w\n",
            "a\n",
            "y\n"
          ]
        }
      ],
      "source": [
        "for i in \"gateway\": #looping through a string\n",
        "  print(i)"
      ]
    },
    {
      "cell_type": "markdown",
      "metadata": {
        "id": "5sOfWHKCosd1"
      },
      "source": [
        "x =[1,2,3]\n",
        "for i in x:\n",
        "  print(i)"
      ]
    },
    {
      "cell_type": "code",
      "execution_count": null,
      "metadata": {
        "colab": {
          "base_uri": "https://localhost:8080/"
        },
        "id": "QkaSwSSkrOlu",
        "outputId": "fb138df2-432a-4a9b-cd69-2163201e3740"
      },
      "outputs": [
        {
          "name": "stdout",
          "output_type": "stream",
          "text": [
            "1\n",
            "2\n",
            "3\n"
          ]
        }
      ],
      "source": [
        "a=[1,2,3]\n",
        "for i in a:\n",
        "  print(i)"
      ]
    },
    {
      "cell_type": "code",
      "execution_count": null,
      "metadata": {
        "colab": {
          "base_uri": "https://localhost:8080/"
        },
        "id": "eNG6jeOxplgE",
        "outputId": "aa72833b-1655-4585-b0b7-cd3877168569"
      },
      "outputs": [
        {
          "name": "stdout",
          "output_type": "stream",
          "text": [
            "b\n",
            "a\n",
            "n\n",
            "a\n",
            "n\n",
            "a\n"
          ]
        }
      ],
      "source": [
        "for x in \"banana\":\n",
        "  print(x)"
      ]
    },
    {
      "cell_type": "code",
      "execution_count": null,
      "metadata": {
        "colab": {
          "base_uri": "https://localhost:8080/"
        },
        "id": "7NZaaCsWajSj",
        "outputId": "eda1a8ce-dfde-4de2-c6dc-759a70a6f85f"
      },
      "outputs": [
        {
          "name": "stdout",
          "output_type": "stream",
          "text": [
            "name\n"
          ]
        }
      ],
      "source": [
        "a= {\"name\":\"priya\"}\n",
        "for i in a:\n",
        "  print(i)"
      ]
    },
    {
      "cell_type": "code",
      "execution_count": null,
      "metadata": {
        "colab": {
          "base_uri": "https://localhost:8080/"
        },
        "id": "hpxRr2I7bDbj",
        "outputId": "d0b68b2c-934e-4333-d0e4-a4e5a1478671"
      },
      "outputs": [
        {
          "name": "stdout",
          "output_type": "stream",
          "text": [
            "name: priya\n"
          ]
        }
      ],
      "source": [
        "a = {\"name\": \"priya\"}\n",
        "for key, value in a.items():\n",
        "    print(f\"{key}: {value}\")"
      ]
    },
    {
      "cell_type": "code",
      "execution_count": null,
      "metadata": {
        "colab": {
          "base_uri": "https://localhost:8080/"
        },
        "id": "VSwNSyWneUet",
        "outputId": "22a41a10-5703-48b0-85ac-40f956240d86"
      },
      "outputs": [
        {
          "name": "stdout",
          "output_type": "stream",
          "text": [
            "1\n",
            "2\n",
            "3\n"
          ]
        }
      ],
      "source": []
    },
    {
      "cell_type": "code",
      "execution_count": null,
      "metadata": {
        "colab": {
          "base_uri": "https://localhost:8080/"
        },
        "id": "v-0b2YKmvs2x",
        "outputId": "0476a34d-e8a7-40de-c42e-56760e74f3b7"
      },
      "outputs": [
        {
          "name": "stdout",
          "output_type": "stream",
          "text": [
            "b is greater than a\n"
          ]
        }
      ],
      "source": [
        "a=30\n",
        "b=40\n",
        "if b>a:\n",
        "  print(\"b is greater than a\")\n",
        "else:\n",
        "  print(\"a is greater than b\")"
      ]
    },
    {
      "cell_type": "code",
      "execution_count": null,
      "metadata": {
        "colab": {
          "base_uri": "https://localhost:8080/"
        },
        "id": "-zE_qeipqvG8",
        "outputId": "59458197-eab4-4eaa-dfb1-029486917910"
      },
      "outputs": [
        {
          "output_type": "stream",
          "name": "stdout",
          "text": [
            "apple\n",
            "cherry\n"
          ]
        }
      ],
      "source": [
        "fruits = [\"apple\", \"banana\", \"cherry\"]\n",
        "for x in fruits:\n",
        "  if x==\"banana\":\n",
        "    continue\n",
        "  print(x)"
      ]
    },
    {
      "cell_type": "code",
      "execution_count": null,
      "metadata": {
        "colab": {
          "base_uri": "https://localhost:8080/"
        },
        "id": "B0IxEtrW1mn2",
        "outputId": "5936f32b-a962-44e1-fd03-e0fbc3b3ebac"
      },
      "outputs": [
        {
          "output_type": "stream",
          "name": "stdout",
          "text": [
            "0\n",
            "1\n",
            "2\n",
            "3\n"
          ]
        }
      ],
      "source": [
        "for i in range(4):\n",
        "  print(i)"
      ]
    },
    {
      "cell_type": "code",
      "execution_count": null,
      "metadata": {
        "colab": {
          "base_uri": "https://localhost:8080/"
        },
        "id": "7muUMJ67hE6Z",
        "outputId": "492f6162-d3d2-44b4-96ed-54a91070e3f2"
      },
      "outputs": [
        {
          "name": "stdout",
          "output_type": "stream",
          "text": [
            "n\n",
            "a\n"
          ]
        }
      ],
      "source": [
        "a=\"name\"\n",
        "for x in a:\n",
        "  if x==\"m\":\n",
        "    break\n",
        "  print(x)"
      ]
    },
    {
      "cell_type": "code",
      "execution_count": null,
      "metadata": {
        "colab": {
          "base_uri": "https://localhost:8080/"
        },
        "id": "qtG05JBXdiyI",
        "outputId": "132247a3-95c3-499f-f72e-e3ef517d6018"
      },
      "outputs": [
        {
          "name": "stdout",
          "output_type": "stream",
          "text": [
            "1\n",
            "2\n",
            "3\n",
            "4\n",
            "5\n",
            "6\n",
            "7\n",
            "8\n",
            "9\n"
          ]
        }
      ],
      "source": [
        "for i in range(1,10):\n",
        "  print(i)"
      ]
    },
    {
      "cell_type": "code",
      "execution_count": null,
      "metadata": {
        "colab": {
          "base_uri": "https://localhost:8080/"
        },
        "id": "ieOKh8VWrNCE",
        "outputId": "5945822a-4797-4225-8848-4415d24707b0"
      },
      "outputs": [
        {
          "name": "stdout",
          "output_type": "stream",
          "text": [
            "apple\n",
            "cherry\n"
          ]
        }
      ],
      "source": [
        "fruits = [\"apple\", \"banana\", \"cherry\"]\n",
        "for x in fruits:\n",
        "  if x == \"banana\":\n",
        "    continue\n",
        "  print(x)\n"
      ]
    },
    {
      "cell_type": "code",
      "execution_count": null,
      "metadata": {
        "colab": {
          "base_uri": "https://localhost:8080/"
        },
        "id": "ypiPt1Ubl1KZ",
        "outputId": "78604597-07bd-4a81-84da-2918616ee87c"
      },
      "outputs": [
        {
          "name": "stdout",
          "output_type": "stream",
          "text": [
            "sachin\n"
          ]
        }
      ],
      "source": [
        "x=(\"sachin\",\"mohan\",\"karthi\")\n",
        "for i in x:\n",
        "  if i==\"mohan\":\n",
        "    break\n",
        "  print(i)"
      ]
    },
    {
      "cell_type": "code",
      "execution_count": null,
      "metadata": {
        "colab": {
          "base_uri": "https://localhost:8080/"
        },
        "id": "3JMy0hZLrUuO",
        "outputId": "dbb8021c-884c-4555-8207-47d3cb37d55a"
      },
      "outputs": [
        {
          "name": "stdout",
          "output_type": "stream",
          "text": [
            "passs\n"
          ]
        }
      ],
      "source": [
        "for x in range(1<10):\n",
        "  print(\"passs\")\n"
      ]
    },
    {
      "cell_type": "code",
      "execution_count": null,
      "metadata": {
        "colab": {
          "base_uri": "https://localhost:8080/"
        },
        "id": "lUM6vlacij0I",
        "outputId": "e455659d-cd1f-4b91-ac80-e401a77274e0"
      },
      "outputs": [
        {
          "name": "stdout",
          "output_type": "stream",
          "text": [
            "1 4\n",
            "1 5\n",
            "2 4\n",
            "2 5\n"
          ]
        }
      ],
      "source": [
        "x = [1, 2]\n",
        "y = [4, 5]\n",
        "\n",
        "for i in x:\n",
        "  for j in y:\n",
        "    print(i, j)"
      ]
    },
    {
      "cell_type": "code",
      "execution_count": null,
      "metadata": {
        "colab": {
          "base_uri": "https://localhost:8080/"
        },
        "id": "RTAI3aYfwcPZ",
        "outputId": "ddd7858b-a4f9-4928-83eb-3dcb13ce4df3"
      },
      "outputs": [
        {
          "name": "stdout",
          "output_type": "stream",
          "text": [
            "0\n",
            "1\n",
            "2\n",
            "3\n",
            "4\n",
            "5\n"
          ]
        }
      ],
      "source": [
        "i=0\n",
        "while i < 6:\n",
        "  print(i)\n",
        "  i += 1          # i = i + 1"
      ]
    },
    {
      "cell_type": "code",
      "execution_count": null,
      "metadata": {
        "id": "TMbfiJUdwfgq",
        "colab": {
          "base_uri": "https://localhost:8080/"
        },
        "outputId": "e80e2aea-4fd9-471b-e652-82a0e5d7f4e2"
      },
      "outputs": [
        {
          "output_type": "stream",
          "name": "stdout",
          "text": [
            "1\n",
            "2\n",
            "3\n"
          ]
        }
      ],
      "source": [
        "i = 1\n",
        "while i < 6:\n",
        "  print(i)\n",
        "  if i == 3:\n",
        "    break\n",
        "  i += 1"
      ]
    },
    {
      "cell_type": "code",
      "execution_count": null,
      "metadata": {
        "colab": {
          "base_uri": "https://localhost:8080/"
        },
        "id": "ylK4-sGnwi9W",
        "outputId": "d68bdcc4-797d-4d45-9b90-8d9c41de9513"
      },
      "outputs": [
        {
          "output_type": "stream",
          "name": "stdout",
          "text": [
            "1\n",
            "2\n",
            "4\n",
            "5\n",
            "6\n"
          ]
        }
      ],
      "source": [
        "i = 0\n",
        "while i < 6:\n",
        "  i += 1\n",
        "  if i == 3:\n",
        "    continue\n",
        "  print(i)"
      ]
    },
    {
      "cell_type": "code",
      "execution_count": null,
      "metadata": {
        "colab": {
          "base_uri": "https://localhost:8080/"
        },
        "id": "2OSGkLxzwujy",
        "outputId": "e48e5974-eb61-483c-bfc5-1054b905c887"
      },
      "outputs": [
        {
          "name": "stdout",
          "output_type": "stream",
          "text": [
            "1\n",
            "2\n",
            "3\n",
            "4\n",
            "5\n",
            "i is no longer less than 6\n"
          ]
        }
      ],
      "source": [
        "i = 1\n",
        "while i < 6:\n",
        "  print(i)\n",
        "  i += 1\n",
        "else:\n",
        "  print(\"i is no longer less than 6\")"
      ]
    },
    {
      "cell_type": "markdown",
      "metadata": {
        "id": "areggXhvTxyC"
      },
      "source": [
        "functions\n",
        "\n",
        "Creating a Function"
      ]
    },
    {
      "cell_type": "code",
      "execution_count": null,
      "metadata": {
        "colab": {
          "base_uri": "https://localhost:8080/"
        },
        "id": "oZihNxoOAb7c",
        "outputId": "c66b46bb-9cbd-4dd0-abd2-165ba67b23ae"
      },
      "outputs": [
        {
          "output_type": "stream",
          "name": "stdout",
          "text": [
            "30\n"
          ]
        }
      ],
      "source": [
        "def myfunc (a,b): #DEF - MEANINING DEFINING A FUNCTION\n",
        "    c=a+b\n",
        "    print(c)\n",
        "\n",
        "myfunc(10,20)"
      ]
    },
    {
      "cell_type": "code",
      "execution_count": null,
      "metadata": {
        "id": "pLrpSKq7T-4S"
      },
      "outputs": [],
      "source": [
        "def my_function():\n",
        "  print(\"Hello from a function\")\n",
        "\n",
        "#my_function()"
      ]
    },
    {
      "cell_type": "code",
      "execution_count": null,
      "metadata": {
        "id": "HLK3UoMfjCC6"
      },
      "outputs": [],
      "source": [
        "def function(name):\n",
        "  print(\"my name is priya\")"
      ]
    },
    {
      "cell_type": "markdown",
      "metadata": {
        "id": "R6-4-xjbUgMG"
      },
      "source": [
        "calling A function"
      ]
    },
    {
      "cell_type": "code",
      "execution_count": null,
      "metadata": {
        "colab": {
          "base_uri": "https://localhost:8080/"
        },
        "id": "O9sNIxivUhD4",
        "outputId": "bd85f3fb-0aa7-4f4b-8b7d-4b9d9039ecb5"
      },
      "outputs": [
        {
          "name": "stdout",
          "output_type": "stream",
          "text": [
            "Hello from a function\n"
          ]
        }
      ],
      "source": [
        "def my_function():\n",
        "  print(\"Hello from a function\")\n",
        "\n",
        "my_function()"
      ]
    },
    {
      "cell_type": "code",
      "execution_count": null,
      "metadata": {
        "colab": {
          "base_uri": "https://localhost:8080/"
        },
        "id": "CaKk6tnOCWhV",
        "outputId": "60b30d4b-4582-4015-e877-f739361eaef3"
      },
      "outputs": [
        {
          "output_type": "stream",
          "name": "stdout",
          "text": [
            "50\n"
          ]
        }
      ],
      "source": [
        "def function(a,b):# a,b - parameters\n",
        "\n",
        "  c=a+b\n",
        "  print(c)\n",
        "\n",
        "function(20,30) #10,20 - arguments"
      ]
    },
    {
      "cell_type": "code",
      "execution_count": null,
      "metadata": {
        "id": "rCcqwD-eDbD0"
      },
      "outputs": [],
      "source": [
        "def function(x):\n",
        "    return square(one(double(x)))\n",
        "\n",
        "def double(y):\n",
        "    return y * 2\n",
        "\n",
        "def one(z):\n",
        "    return z + 1\n",
        "\n",
        "def square(w):\n",
        "    return w ** 2\n",
        "\n",
        "output = function(6)\n",
        "print(output)"
      ]
    },
    {
      "cell_type": "markdown",
      "metadata": {
        "id": "IQY4lHFZUpn9"
      },
      "source": [
        "Arguments"
      ]
    },
    {
      "cell_type": "code",
      "execution_count": null,
      "metadata": {
        "colab": {
          "base_uri": "https://localhost:8080/"
        },
        "id": "OLtu9oZwVvkU",
        "outputId": "7ce997d3-c5d7-4b8f-a222-02306a49f7c5"
      },
      "outputs": [
        {
          "name": "stdout",
          "output_type": "stream",
          "text": [
            "Emiljain\n",
            "Tobiasjain\n",
            "Linusjain\n"
          ]
        }
      ],
      "source": [
        "def my_function(fname):\n",
        "  print(fname + \"jain\")\n",
        "\n",
        "my_function(\"Emil\")\n",
        "my_function(\"Tobias\")\n",
        "my_function(\"Linus\")"
      ]
    },
    {
      "cell_type": "markdown",
      "metadata": {
        "id": "uEj-sX_aV_kE"
      },
      "source": [
        "arg*"
      ]
    },
    {
      "cell_type": "code",
      "execution_count": null,
      "metadata": {
        "colab": {
          "base_uri": "https://localhost:8080/"
        },
        "id": "DhJvlOsbWF3g",
        "outputId": "eccce72d-eb3d-46e1-93ce-baae7ca38695"
      },
      "outputs": [
        {
          "name": "stdout",
          "output_type": "stream",
          "text": [
            "The youngest child is Linus\n"
          ]
        }
      ],
      "source": [
        "def my_function(*kids):\n",
        "  print(\"The youngest child is \" + kids[2])\n",
        "\n",
        "my_function(\"Emil\", \"Tobias\", \"Linus\")"
      ]
    },
    {
      "cell_type": "markdown",
      "metadata": {
        "id": "abm7VeF2WQeM"
      },
      "source": [
        "Arbitrary Keyword Arguments, **kwargs"
      ]
    },
    {
      "cell_type": "code",
      "execution_count": null,
      "metadata": {
        "colab": {
          "base_uri": "https://localhost:8080/"
        },
        "id": "esJW1zkFWgrb",
        "outputId": "b8e8e8ca-43b5-4c79-ef42-7df13da62de1"
      },
      "outputs": [
        {
          "name": "stdout",
          "output_type": "stream",
          "text": [
            "His last name is jain\n"
          ]
        }
      ],
      "source": [
        "def my_function(**kid):\n",
        "  print(\"His last name is \" + kid[\"lname\"])\n",
        "\n",
        "my_function(fname = \"Tobias\", lname = \"jain\")"
      ]
    },
    {
      "cell_type": "code",
      "execution_count": null,
      "metadata": {
        "colab": {
          "base_uri": "https://localhost:8080/"
        },
        "id": "4cQUy_aJmwI-",
        "outputId": "60350e97-e0b4-4237-dcfa-03e5738ca881"
      },
      "outputs": [
        {
          "name": "stdout",
          "output_type": "stream",
          "text": [
            "Factorial of 5: 120\n"
          ]
        }
      ],
      "source": [
        "def factorial(n):\n",
        "    if n == 0 or n == 1:\n",
        "        return 1\n",
        "    else:\n",
        "        return n * factorial(n - 1)\n",
        "\n",
        "# Example usage:\n",
        "result = factorial(5)\n",
        "print(\"Factorial of 5:\", result)"
      ]
    },
    {
      "cell_type": "code",
      "execution_count": null,
      "metadata": {
        "id": "LPe47-okbgpq"
      },
      "outputs": [],
      "source": [
        "x = lambda a: a + 10\n",
        "print(x(10))\n"
      ]
    },
    {
      "cell_type": "code",
      "execution_count": null,
      "metadata": {
        "id": "Y1-aBgSTbqZP"
      },
      "outputs": [],
      "source": [
        "x = lambda a, b, c : a + b + c\n",
        "print(x(12, 63, 42))"
      ]
    },
    {
      "cell_type": "markdown",
      "metadata": {
        "id": "IyIj5XKjvXYq"
      },
      "source": [
        "object oriented programming langauge\n",
        "\n",
        "1.class\n",
        "\n",
        "2.object\n",
        "\n",
        "3.abstract\n",
        "\n",
        "4.encapsulation\n",
        "\n",
        "5.inheritance\n",
        "\n",
        "6.polymorphism"
      ]
    },
    {
      "cell_type": "code",
      "execution_count": null,
      "metadata": {
        "id": "seBVw0j-psC3"
      },
      "outputs": [],
      "source": [
        "#creating class - object constructor\n",
        "class MyClass:\n",
        "  x = \"my_class\""
      ]
    },
    {
      "cell_type": "code",
      "execution_count": null,
      "metadata": {
        "colab": {
          "base_uri": "https://localhost:8080/"
        },
        "id": "hqdYrWN-pzox",
        "outputId": "e67c131c-a3b6-416c-80cc-e72318d4dabe"
      },
      "outputs": [
        {
          "name": "stdout",
          "output_type": "stream",
          "text": [
            "my_class\n"
          ]
        }
      ],
      "source": [
        "#creating object - instance of a class\n",
        "class Name:\n",
        "  x = \"my_class\"\n",
        "\n",
        "p1 = Name()\n",
        "print(p1.x)"
      ]
    },
    {
      "cell_type": "code",
      "execution_count": null,
      "metadata": {
        "colab": {
          "base_uri": "https://localhost:8080/"
        },
        "id": "BmZq_hLapGmE",
        "outputId": "2a4dc29e-b60a-4582-c674-35c1b1148b7c"
      },
      "outputs": [
        {
          "name": "stdout",
          "output_type": "stream",
          "text": [
            "62 cse\n"
          ]
        }
      ],
      "source": [
        "#creating a class and object and __init__()\n",
        "class Student:\n",
        "  def __init__(self, regnum, dept):  #__init__() object initailize #reference key - self , this\n",
        "    self.regnum = regnum\n",
        "    self.dept = dept\n",
        "\n",
        "s1 = Student(62,\"cse\")\n",
        "\n",
        "print(s1.regnum,s1.dept)"
      ]
    },
    {
      "cell_type": "code",
      "execution_count": null,
      "metadata": {
        "colab": {
          "base_uri": "https://localhost:8080/"
        },
        "id": "I-M0mmpe3Lat",
        "outputId": "ba327ce2-f8dc-4a0d-e3e9-acc17b0fc316"
      },
      "outputs": [
        {
          "output_type": "stream",
          "name": "stdout",
          "text": [
            "b m\n",
            "move\n",
            "m b\n",
            "move\n",
            "p m\n",
            "move\n"
          ]
        }
      ],
      "source": [
        "class vehicle: #parent class/base class\n",
        "  def __init__(self,brand,model):#self\n",
        "    self.brand=brand\n",
        "    self.model=model\n",
        "  def myfunc(this): #this / self - reference key\n",
        "    print(\"move\")\n",
        "\n",
        "class car(vehicle): #inherit class car - child/derived class\n",
        "  pass\n",
        "\n",
        "class boat(vehicle):\n",
        " pass\n",
        "\n",
        "class plane(vehicle):\n",
        "  def m(this):\n",
        "    print(\"fly\")\n",
        "\n",
        "# car , boat , plane - class: object constructor ; c, b, p -object\n",
        "c=car(\"b\",\"m\")\n",
        "b=boat(\"m\",\"b\")\n",
        "p=plane(\"p\",\"m\")\n",
        "\n",
        "for x in (c,b,p):\n",
        "  print(x.brand,x.model)\n",
        "  x.myfunc()"
      ]
    },
    {
      "cell_type": "code",
      "execution_count": null,
      "metadata": {
        "id": "loIJTsaAUqNe",
        "outputId": "2bcaeb35-cb30-4f71-ee60-bdd9f19fb269",
        "colab": {
          "base_uri": "https://localhost:8080/"
        }
      },
      "outputs": [
        {
          "output_type": "stream",
          "name": "stdout",
          "text": [
            "Drive!\n",
            "Sail!\n",
            "Fly!\n"
          ]
        }
      ],
      "source": [
        "class Car:\n",
        "  def __init__(self, brand, model):\n",
        "    self.brand = brand\n",
        "    self.model = model\n",
        "\n",
        "  def move(self):\n",
        "    print(\"Drive!\")\n",
        "\n",
        "class Boat:\n",
        "  def __init__(self, brand, model):\n",
        "    self.brand = brand\n",
        "    self.model = model\n",
        "\n",
        "  def move(self):\n",
        "    print(\"Sail!\")\n",
        "\n",
        "class Plane:\n",
        "  def __init__(self, brand, model):\n",
        "    self.brand = brand\n",
        "    self.model = model\n",
        "\n",
        "  def move(self):\n",
        "    print(\"Fly!\")\n",
        "\n",
        "car1 = Car(\"Ford\", \"Mustang\")       #Create a Car class\n",
        "boat1 = Boat(\"Ibiza\", \"Touring 20\") #Create a Boat class\n",
        "plane1 = Plane(\"Boeing\", \"747\")     #Create a Plane class\n",
        "\n",
        "for x in (car1,boat1,plane1):\n",
        "  x.move()"
      ]
    },
    {
      "cell_type": "markdown",
      "metadata": {
        "id": "pn2AMowoEIQV"
      },
      "source": [
        "python error and exceptions"
      ]
    },
    {
      "cell_type": "code",
      "execution_count": null,
      "metadata": {
        "colab": {
          "base_uri": "https://localhost:8080/"
        },
        "id": "WCZokUDEVtiC",
        "outputId": "ef6f1118-ba92-46ac-f97d-a6a7a33725b9"
      },
      "outputs": [
        {
          "name": "stdout",
          "output_type": "stream",
          "text": [
            "exception caught!\n",
            "no error in the above coding\n"
          ]
        }
      ],
      "source": [
        "try:\n",
        "  a=\"string\"\n",
        "  b=int(a)\n",
        "  print(b)\n",
        "except:\n",
        "  print(\"exception caught!\")\n",
        "\n",
        "else:\n",
        "  print(\"no error\")\n",
        "\n",
        "finally:\n",
        "  print(\"no error in the above coding\")"
      ]
    },
    {
      "cell_type": "code",
      "execution_count": null,
      "metadata": {
        "colab": {
          "base_uri": "https://localhost:8080/"
        },
        "id": "AG1fISDOWhO6",
        "outputId": "a32cb9ca-ee7b-47e2-98b2-47b30fe1bab5"
      },
      "outputs": [
        {
          "name": "stdout",
          "output_type": "stream",
          "text": [
            "exception caught!\n",
            "no error in the above coding\n"
          ]
        }
      ],
      "source": [
        "try:\n",
        "  a=\"string\"\n",
        "  b=int(a)\n",
        "\n",
        "except:\n",
        "  print(\"exception caught!\")\n",
        "\n",
        "else:\n",
        "  print(\"no error\")\n",
        "\n",
        "finally:\n",
        "  print(\"no error in the above coding\")\n"
      ]
    },
    {
      "cell_type": "code",
      "execution_count": null,
      "metadata": {
        "colab": {
          "base_uri": "https://localhost:8080/"
        },
        "id": "H-lnp8ChFT6a",
        "outputId": "fd9f96ea-5a93-4a47-80fc-2a16bdb2bf39"
      },
      "outputs": [
        {
          "name": "stdout",
          "output_type": "stream",
          "text": [
            "Division by  zero is not possible\n"
          ]
        }
      ],
      "source": [
        "try:\n",
        "  a=5\n",
        "  b=0\n",
        "  c=a/b\n",
        "except ZeroDivisionError:\n",
        "  print(\"Division by  zero is not possible\")"
      ]
    },
    {
      "cell_type": "markdown",
      "metadata": {
        "id": "_hJcZBT6Of4D"
      },
      "source": [
        "FILE HANDLING"
      ]
    },
    {
      "cell_type": "code",
      "execution_count": null,
      "metadata": {
        "colab": {
          "base_uri": "https://localhost:8080/"
        },
        "id": "hASLCwOIOe4x",
        "outputId": "710301ed-e264-46b6-e260-ce8a3d93ae6d"
      },
      "outputs": [
        {
          "name": "stdout",
          "output_type": "stream",
          "text": [
            "/content\n"
          ]
        }
      ],
      "source": [
        "#file_object = open(file_name[access_mode],[buffering])\n",
        "#module -collections of scripts\n",
        "#os - operating system\n",
        "import os  #---->os module import\n",
        "os.getcwd() # give current working directory\n",
        "print(os.getcwd())"
      ]
    },
    {
      "cell_type": "markdown",
      "metadata": {
        "id": "yK3V_YSxTwBy"
      },
      "source": [
        "reading and writing file\n",
        "\n",
        "1.read()\n",
        "2.readline()\n",
        "3.readlines()\n",
        "4.write()\n",
        "5.see"
      ]
    },
    {
      "cell_type": "code",
      "execution_count": null,
      "metadata": {
        "id": "hTbxuJcZVuSV"
      },
      "outputs": [],
      "source": [
        "a=200\n",
        "b=60.9\n",
        "c={\"name\":\"priya\"}\n",
        "d={\"c\",\"f\",\"g\",\"k\"}\n",
        "s=[1,3,5,8]\n",
        "r=(1,3,5)\n",
        "t=\"string\""
      ]
    },
    {
      "cell_type": "markdown",
      "source": [
        "\n",
        "\n",
        "\n",
        "\n",
        "REGULAR EXPRESSION\n",
        "\n",
        "used to find patterns\n",
        "\n",
        "1.given a string , then find it matches the pattern\n",
        "2.given a pattern , finds out it occurs in a given string\n",
        "can also  beu sed to modify the strings"
      ],
      "metadata": {
        "id": "hUdFBeVjpHAT"
      }
    },
    {
      "cell_type": "code",
      "source": [
        "import re\n"
      ],
      "metadata": {
        "id": "J0UVpAMtpGoT"
      },
      "execution_count": null,
      "outputs": []
    },
    {
      "cell_type": "markdown",
      "source": [
        "re.match()"
      ],
      "metadata": {
        "id": "tu39r2BFTaOQ"
      }
    },
    {
      "cell_type": "code",
      "source": [
        "pattern = r\"hello\"\n",
        "string = \"hello world\"\n",
        "match = re.match(pattern, string)\n",
        "if match:\n",
        "    print(\"Match found:\", match.group())\n",
        "else:\n",
        "    print(\"No match\")\n"
      ],
      "metadata": {
        "colab": {
          "base_uri": "https://localhost:8080/"
        },
        "id": "u9xZt3Zeq-mK",
        "outputId": "a8b522e9-eb54-4f6d-93ba-9008ea2dfafb"
      },
      "execution_count": null,
      "outputs": [
        {
          "output_type": "stream",
          "name": "stdout",
          "text": [
            "Match found: hello\n"
          ]
        }
      ]
    },
    {
      "cell_type": "markdown",
      "source": [
        "re.search()"
      ],
      "metadata": {
        "id": "swjACL8WTfUv"
      }
    },
    {
      "cell_type": "code",
      "source": [
        "pattern = r\"world\"\n",
        "string = \"hello world\"\n",
        "match = re.search(pattern, string)\n",
        "if match:\n",
        "    print(\"Match found:\", match.group())\n",
        "else:\n",
        "    print(\"No match\")\n"
      ],
      "metadata": {
        "colab": {
          "base_uri": "https://localhost:8080/"
        },
        "id": "sB4J1e_HrGwL",
        "outputId": "ff010706-17af-459e-d9bc-008a2773e20c"
      },
      "execution_count": null,
      "outputs": [
        {
          "output_type": "stream",
          "name": "stdout",
          "text": [
            "Match found: world\n"
          ]
        }
      ]
    },
    {
      "cell_type": "markdown",
      "source": [
        "re.findall()"
      ],
      "metadata": {
        "id": "4F7Z3Pd3TirE"
      }
    },
    {
      "cell_type": "code",
      "source": [
        "pattern = r\"\\d+\"  # One or more digits\n",
        "string = \"There are 123 apples and 45 bananas.\"\n",
        "matches = re.findall(pattern, string)\n",
        "print(\"Matches found:\", matches)\n"
      ],
      "metadata": {
        "colab": {
          "base_uri": "https://localhost:8080/"
        },
        "id": "qz4DD3inTjaW",
        "outputId": "ca1de5fa-2858-436d-e608-3a876f6e9707"
      },
      "execution_count": null,
      "outputs": [
        {
          "output_type": "stream",
          "name": "stdout",
          "text": [
            "Matches found: ['123', '45']\n"
          ]
        }
      ]
    },
    {
      "cell_type": "markdown",
      "source": [
        "re.sub()"
      ],
      "metadata": {
        "id": "HlGpViVpVm42"
      }
    },
    {
      "cell_type": "code",
      "source": [
        "pattern = r\"\\d+\"\n",
        "replacement = \"#\"\n",
        "string = \"There are 123 apples and 45 bananas.\"\n",
        "result = re.sub(pattern, replacement, string)\n",
        "print(\"Replaced string:\", result)\n"
      ],
      "metadata": {
        "colab": {
          "base_uri": "https://localhost:8080/"
        },
        "id": "lC4UgZ46VqTq",
        "outputId": "e13fd2df-976f-4e16-ae61-764d755b54dd"
      },
      "execution_count": null,
      "outputs": [
        {
          "output_type": "stream",
          "name": "stdout",
          "text": [
            "Replaced string: There are # apples and # bananas.\n"
          ]
        }
      ]
    },
    {
      "cell_type": "markdown",
      "source": [
        "Common Patterns\n",
        "\n",
        "\n",
        ".: Any character except newline\n",
        "\n",
        "\n",
        "\\d: Any digit\n",
        "\n",
        "\n",
        "\\D: Any non-digit\n",
        "\n",
        "\n",
        "\\w: Any word character (alphanumeric + underscore)\n",
        "\n",
        "\n",
        "\\W: Any non-word character\n",
        "\n",
        "\n",
        "\\s: Any whitespace character\n",
        "\n",
        "\n",
        "\\S: Any non-whitespace character\n",
        "\n",
        "\n",
        "*: Zero or more repetitions\n",
        "\n",
        "\n",
        "+: One or more repetitions\n",
        "\n",
        "\n",
        "?: Zero or one repetition\n",
        "\n",
        "\n",
        "{n}: Exactly n repetitions\n",
        "\n",
        "\n",
        "{n,}: n or more repetitions\n",
        "\n",
        "\n",
        "\n",
        "{n,m}: Between n and m repetitions\n",
        "\n",
        "\n",
        "^: Start of the string\n",
        "\n",
        "\n",
        "\n",
        "\n",
        "$: End of the string\n",
        "\n",
        "\n",
        "[]: Set of characters\n",
        "\n",
        "\n",
        "|: OR operator\n",
        "\n",
        "\n",
        "(): Grouping"
      ],
      "metadata": {
        "id": "_mrzF5KjV4eP"
      }
    },
    {
      "cell_type": "code",
      "source": [
        "\n",
        "pattern = r\"[a-zA-Z0-9._%+-]+@[a-zA-Z0-9.-]+\\.[a-zA-Z]{2,}\"\n",
        "string = \"Contact us at support@example.com or sales@example.com.\"\n",
        "matches = re.findall(pattern, string)\n",
        "print(\"Email addresses found:\", matches)\n"
      ],
      "metadata": {
        "colab": {
          "base_uri": "https://localhost:8080/"
        },
        "id": "broPz0eBWBbO",
        "outputId": "108ff14b-d735-423a-93b9-9e5b4b31558e"
      },
      "execution_count": null,
      "outputs": [
        {
          "output_type": "stream",
          "name": "stdout",
          "text": [
            "Email addresses found: ['support@example.com', 'sales@example.com']\n"
          ]
        }
      ]
    },
    {
      "cell_type": "code",
      "source": [
        "pattern = \"\\(\\d{3}\\) \\d{3}-\\d{4}\"\n",
        "string = \"My phone number is (123) 456-7890.\"\n",
        "match = re.search(pattern, string)\n",
        "if match:\n",
        "    print(\"Valid phone number:\", match.group())\n",
        "else:\n",
        "    print(\"Invalid phone number\")\n"
      ],
      "metadata": {
        "colab": {
          "base_uri": "https://localhost:8080/"
        },
        "id": "IH2p_3NZY42Y",
        "outputId": "84fa4aa5-ab05-44c5-b8f7-f574c72ded64"
      },
      "execution_count": null,
      "outputs": [
        {
          "output_type": "stream",
          "name": "stdout",
          "text": [
            "Valid phone number: (123) 456-7890\n"
          ]
        }
      ]
    },
    {
      "cell_type": "code",
      "source": [
        "pattern = r\"\\W+\"\n",
        "string = \"Hello, world! How are you?\"\n",
        "result = re.split(pattern, string)\n",
        "print(\"Split string:\", result)\n"
      ],
      "metadata": {
        "colab": {
          "base_uri": "https://localhost:8080/"
        },
        "id": "1dVvSCeyZD2t",
        "outputId": "09eaa821-8096-49c9-903b-fe3162d143d8"
      },
      "execution_count": null,
      "outputs": [
        {
          "output_type": "stream",
          "name": "stdout",
          "text": [
            "Split string: ['Hello', 'world', 'How', 'are', 'you', '']\n"
          ]
        }
      ]
    },
    {
      "cell_type": "markdown",
      "source": [
        "match(pat, str) - it checks str starts with pattern\n",
        "\n",
        "if pat is found in str , it returns a match obj\n",
        "\n",
        "\n",
        "search(pat,str) -  it checks the occurence of the pattern inthe string\n",
        "\n",
        "pattern may be anywhere in the string , if pattern is found in str , it return match obj\n",
        "\n",
        "\n",
        "findall(pat, str) -- it checks all the instance of pattern pat in the string"
      ],
      "metadata": {
        "id": "CXdW5W2AeZpO"
      }
    },
    {
      "cell_type": "code",
      "source": [
        "import re\n",
        "\n",
        "pat ='cat'\n",
        "t1 = ('cats','ca', 'cat')\n",
        "for s in t1:\n",
        "  mobj = re.match(pat,s)\n",
        "  print(\"\\'cat\\' in\",s,\"-->\", bool(mobj))"
      ],
      "metadata": {
        "colab": {
          "base_uri": "https://localhost:8080/"
        },
        "id": "fAtocCrucbxn",
        "outputId": "c7397681-12bc-434a-c414-67423f11f2ad"
      },
      "execution_count": null,
      "outputs": [
        {
          "output_type": "stream",
          "name": "stdout",
          "text": [
            "'cat' in cats --> True\n",
            "'cat' in ca --> False\n",
            "'cat' in cat --> True\n"
          ]
        }
      ]
    },
    {
      "cell_type": "code",
      "source": [
        "import re\n",
        "mystr = 'the cat is in the tree'\n",
        "mypat = 'cat'\n",
        "mymatch = re.search(mypat,mystr)\n",
        "if mymatch:\n",
        "  print(mypat,'found in',mystr)\n",
        "else:\n",
        "  print(mypat,'not found in',mystr)"
      ],
      "metadata": {
        "colab": {
          "base_uri": "https://localhost:8080/"
        },
        "id": "_buOiac5dTJ5",
        "outputId": "369e3200-cf2e-41f3-f5ce-1638a37fc1cb"
      },
      "execution_count": null,
      "outputs": [
        {
          "output_type": "stream",
          "name": "stdout",
          "text": [
            "cat found in the cat is in the tree\n"
          ]
        }
      ]
    },
    {
      "cell_type": "code",
      "source": [
        "import re\n",
        "mystr = 'the cat is in the tree'\n",
        "mypat = 'cat'\n",
        "mymatch = re.search(mypat,mystr)\n",
        "if mymatch:  # Check if a match object exists\n",
        "  print(mypat,'found in',mystr)\n",
        "else:\n",
        "  print(mypat,'not found in',mystr)"
      ],
      "metadata": {
        "colab": {
          "base_uri": "https://localhost:8080/"
        },
        "id": "snXK5k4UeJEL",
        "outputId": "a0c1edcb-19a7-4e59-de0f-0b1a6b2b8a76"
      },
      "execution_count": null,
      "outputs": [
        {
          "output_type": "stream",
          "name": "stdout",
          "text": [
            "cat found in the cat is in the tree\n"
          ]
        }
      ]
    },
    {
      "cell_type": "code",
      "source": [],
      "metadata": {
        "id": "Bv28qLnUeTz2"
      },
      "execution_count": null,
      "outputs": []
    }
  ],
  "metadata": {
    "colab": {
      "provenance": []
    },
    "kernelspec": {
      "display_name": "Python 3",
      "name": "python3"
    },
    "language_info": {
      "name": "python"
    }
  },
  "nbformat": 4,
  "nbformat_minor": 0
}